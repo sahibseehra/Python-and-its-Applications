{
 "cells": [
  {
   "cell_type": "code",
   "execution_count": 6,
   "metadata": {},
   "outputs": [
    {
     "name": "stdout",
     "output_type": "stream",
     "text": [
      "hello\n"
     ]
    }
   ],
   "source": [
    "print(\"hello\")"
   ]
  },
  {
   "cell_type": "code",
   "execution_count": 24,
   "metadata": {},
   "outputs": [
    {
     "name": "stdout",
     "output_type": "stream",
     "text": [
      "[[444  20  30]\n",
      " [ 40  50  60]\n",
      " [ 70  80  90]]\n"
     ]
    }
   ],
   "source": [
    "#To create Rank 1  Array\n",
    "import numpy as np\n",
    "#l=[10,20,30,40,50]\n",
    "an_array=np.array([[10,20,30,],[40,50,60],[70,80,90]]) #an_array is numpy array\n",
    "an_array[0,0]=444\n",
    "print(an_array)\n",
    "\n",
    "#an_array.shape\n",
    "\n",
    "#type(an_array)\n",
    "#print(an_array[0])"
   ]
  },
  {
   "cell_type": "code",
   "execution_count": 25,
   "metadata": {},
   "outputs": [
    {
     "name": "stdout",
     "output_type": "stream",
     "text": [
      "[[0. 0. 0. ... 0. 0. 0.]\n",
      " [0. 0. 0. ... 0. 0. 0.]\n",
      " [0. 0. 0. ... 0. 0. 0.]\n",
      " ...\n",
      " [0. 0. 0. ... 0. 0. 0.]\n",
      " [0. 0. 0. ... 0. 0. 0.]\n",
      " [0. 0. 0. ... 0. 0. 0.]]\n"
     ]
    }
   ],
   "source": [
    "import numpy as np\n",
    "#create a 2X2 array of zeros\n",
    "ex1=np.zeros((100,100))\n",
    "print(ex1)"
   ]
  },
  {
   "cell_type": "code",
   "execution_count": 26,
   "metadata": {},
   "outputs": [
    {
     "name": "stdout",
     "output_type": "stream",
     "text": [
      "[[1. 1. 1.]\n",
      " [1. 1. 1.]\n",
      " [1. 1. 1.]]\n"
     ]
    }
   ],
   "source": [
    "#create an array of ones\n",
    "ex4=np.ones((3,3))\n",
    "print(ex4)"
   ]
  },
  {
   "cell_type": "code",
   "execution_count": 29,
   "metadata": {},
   "outputs": [
    {
     "name": "stdout",
     "output_type": "stream",
     "text": [
      "[[1. 0. 0. 0.]\n",
      " [0. 1. 0. 0.]\n",
      " [0. 0. 1. 0.]\n",
      " [0. 0. 0. 1.]]\n"
     ]
    }
   ],
   "source": [
    "#create a 2x2 matrix with the diagonal  is and the others 0\n",
    "ex3 = np.eye(4,4)\n",
    "print(ex3)"
   ]
  },
  {
   "cell_type": "code",
   "execution_count": 30,
   "metadata": {},
   "outputs": [
    {
     "name": "stdout",
     "output_type": "stream",
     "text": [
      "[[9. 9.]\n",
      " [9. 9.]]\n"
     ]
    }
   ],
   "source": [
    "#create a 2x2 matrix filled with 9.0\n",
    "ex2=np.full((2,2),(9.0))\n",
    "print(ex2)"
   ]
  },
  {
   "cell_type": "code",
   "execution_count": 32,
   "metadata": {},
   "outputs": [
    {
     "name": "stdout",
     "output_type": "stream",
     "text": [
      "[[0.92223856 0.49486569 0.56307254]\n",
      " [0.97778405 0.99870736 0.17631592]\n",
      " [0.73146717 0.54442497 0.1421499 ]\n",
      " [0.82559581 0.62478339 0.16823657]]\n"
     ]
    }
   ],
   "source": [
    "#create an array of random floats between 0 and 1\n",
    "ex5=np.random.random( (4,3) )\n",
    "print(ex5)"
   ]
  },
  {
   "cell_type": "code",
   "execution_count": 34,
   "metadata": {},
   "outputs": [
    {
     "name": "stdout",
     "output_type": "stream",
     "text": [
      "[ 2  4  6  8 10]\n"
     ]
    }
   ],
   "source": [
    "#arange function pronounciation => 'a-range'\n",
    "import numpy as np\n",
    "an_array=np.arange(10)\n",
    "an_array=np.arange(2,11,2)\n",
    "print(an_array)\n"
   ]
  },
  {
   "cell_type": "code",
   "execution_count": 36,
   "metadata": {},
   "outputs": [
    {
     "data": {
      "text/plain": [
       "array([[0, 1, 2],\n",
       "       [3, 4, 5],\n",
       "       [6, 7, 8]])"
      ]
     },
     "execution_count": 36,
     "metadata": {},
     "output_type": "execute_result"
    }
   ],
   "source": [
    "#reshape an array\n",
    "import numpy as np\n",
    "an_array=np.arange(9)\n",
    "an_array=an_array.reshape((3,3)) #here reshape of array of 3x3(2d-array)\n",
    "an_array"
   ]
  },
  {
   "cell_type": "code",
   "execution_count": 3,
   "metadata": {},
   "outputs": [
    {
     "data": {
      "text/plain": [
       "array([[11, 12, 13, 14],\n",
       "       [21, 22, 23, 24],\n",
       "       [31, 32, 33, 34]])"
      ]
     },
     "execution_count": 3,
     "metadata": {},
     "output_type": "execute_result"
    }
   ],
   "source": [
    "import numpy as np\n",
    "an_array=np.array([[11,12,13,14],[21,22,23,24],[31,32,33,34]])\n",
    "a_slice=an_array[1:3,2:4]\n",
    "a_slice\n",
    "an_array"
   ]
  },
  {
   "cell_type": "code",
   "execution_count": 14,
   "metadata": {},
   "outputs": [
    {
     "name": "stdout",
     "output_type": "stream",
     "text": [
      "[[ 0 24]\n",
      " [33 34]]\n",
      "[[11 12 13 14]\n",
      " [21 22  0 24]\n",
      " [31 32 33 34]]\n"
     ]
    }
   ],
   "source": [
    "import numpy as np\n",
    "an_array=np.array([[11,12,13,14],[21,22,23,24],[31,32,33,34]])\n",
    "a_slice=an_array[1:3,2:4]\n",
    "a_slice[0,0]=0\n",
    "print(a_slice)\n",
    "print(an_array)"
   ]
  },
  {
   "cell_type": "code",
   "execution_count": 13,
   "metadata": {},
   "outputs": [
    {
     "name": "stdout",
     "output_type": "stream",
     "text": [
      "[[11 12 13 14]\n",
      " [21 22 23 24]\n",
      " [31 32 33 34]]\n",
      "[[ 0 24]\n",
      " [33 34]]\n"
     ]
    }
   ],
   "source": [
    "import numpy as np\n",
    "an_array=np.array([[11,12,13,14],[21,22,23,24],[31,32,33,34]])\n",
    "a_slice=an_array[1:3,2:4].copy()\n",
    "a_slice[0,0]=0\n",
    "print(an_array)\n",
    "print(a_slice)"
   ]
  },
  {
   "cell_type": "code",
   "execution_count": 17,
   "metadata": {},
   "outputs": [
    {
     "name": "stdout",
     "output_type": "stream",
     "text": [
      "[[31 32 33 34]]\n"
     ]
    }
   ],
   "source": [
    "import numpy as np\n",
    "an_array=np.array([[11,12,13,14],[21,22,23,24],[31,32,33,34]])\n",
    "a_slice=an_array[1:3][1:4] #using 2 brackets there will be slice of slice\n",
    "a_slice\n",
    "print(a_slice)\n",
    "#print(an_array)"
   ]
  },
  {
   "cell_type": "code",
   "execution_count": 18,
   "metadata": {},
   "outputs": [
    {
     "name": "stdout",
     "output_type": "stream",
     "text": [
      "[[False False]\n",
      " [False False]\n",
      " [ True  True]]\n"
     ]
    }
   ],
   "source": [
    "#Boolean Index\n",
    "#create a 3x2 array\n",
    "an_array=np.array([[11,12],[21,22],[31,32]])\n",
    "\n",
    "\n",
    "filter=an_array>25\n",
    "print(filter)"
   ]
  },
  {
   "cell_type": "code",
   "execution_count": 22,
   "metadata": {},
   "outputs": [
    {
     "name": "stdout",
     "output_type": "stream",
     "text": [
      "[[False  True]\n",
      " [False  True]\n",
      " [False  True]]\n"
     ]
    }
   ],
   "source": [
    "#Boolean Index\n",
    "#create a 3x2 array\n",
    "an_array=np.array([[11,12],[21,22],[31,32]])\n",
    "\n",
    "\n",
    "filter=an_array%2==0 #without using loop\n",
    "print(filter)"
   ]
  },
  {
   "cell_type": "code",
   "execution_count": 23,
   "metadata": {},
   "outputs": [
    {
     "name": "stdout",
     "output_type": "stream",
     "text": [
      "[12 22 32]\n"
     ]
    }
   ],
   "source": [
    "#Boolean Index\n",
    "#create a 3x2 array\n",
    "an_array=np.array([[11,12],[21,22],[31,32]])\n",
    "\n",
    "\n",
    "filter=an_array%2==0 #without using loop\n",
    "print(an_array[filter])#only true data is printed and printed only in 1-d array"
   ]
  },
  {
   "cell_type": "code",
   "execution_count": 25,
   "metadata": {},
   "outputs": [
    {
     "name": "stdout",
     "output_type": "stream",
     "text": [
      "[11 21 31]\n"
     ]
    }
   ],
   "source": [
    "#Boolean Index\n",
    "#create a 3x2 array\n",
    "an_array=np.array([[11,12],[21,22],[31,32]])\n",
    "\n",
    "\n",
    "filter=an_array%2!=0 #without using loop\n",
    "print(an_array[filter])"
   ]
  },
  {
   "cell_type": "code",
   "execution_count": 27,
   "metadata": {},
   "outputs": [
    {
     "name": "stdout",
     "output_type": "stream",
     "text": [
      "[21 22]\n"
     ]
    }
   ],
   "source": [
    "#Boolean Index\n",
    "#create a 3x2 array\n",
    "an_array=np.array([[11,12],[21,22],[31,32]])\n",
    "fil1=an_array>20\n",
    "fil2=an_array<30\n",
    "filter=fil1&fil2\n",
    "print(an_array[filter])"
   ]
  },
  {
   "attachments": {},
   "cell_type": "markdown",
   "metadata": {},
   "source": [
    "#Arithmatic operation\n",
    "\n"
   ]
  }
 ],
 "metadata": {
  "kernelspec": {
   "display_name": "Python 3",
   "language": "python",
   "name": "python3"
  },
  "language_info": {
   "codemirror_mode": {
    "name": "ipython",
    "version": 3
   },
   "file_extension": ".py",
   "mimetype": "text/x-python",
   "name": "python",
   "nbconvert_exporter": "python",
   "pygments_lexer": "ipython3",
   "version": "3.6.4"
  }
 },
 "nbformat": 4,
 "nbformat_minor": 2
}
